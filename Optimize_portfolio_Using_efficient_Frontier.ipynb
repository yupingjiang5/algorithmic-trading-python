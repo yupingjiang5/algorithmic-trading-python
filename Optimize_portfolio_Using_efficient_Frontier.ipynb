{
  "cells": [
    {
      "cell_type": "markdown",
      "metadata": {
        "id": "view-in-github",
        "colab_type": "text"
      },
      "source": [
        "<a href=\"https://colab.research.google.com/github/yupingjiang5/algorithmic-trading-python/blob/master/Optimize_portfolio_Using_efficient_Frontier.ipynb\" target=\"_parent\"><img src=\"https://colab.research.google.com/assets/colab-badge.svg\" alt=\"Open In Colab\"/></a>"
      ]
    },
    {
      "cell_type": "code",
      "execution_count": null,
      "id": "7eea1f1e",
      "metadata": {
        "id": "7eea1f1e"
      },
      "outputs": [],
      "source": [
        "# Description: This program attempts to optimize a our portfolio using the Efficient Frontier"
      ]
    },
    {
      "cell_type": "code",
      "source": [
        "#pip install numpy"
      ],
      "metadata": {
        "id": "kXllQfFLOWMK"
      },
      "id": "kXllQfFLOWMK",
      "execution_count": null,
      "outputs": []
    },
    {
      "cell_type": "code",
      "source": [
        "#pip install yfinance"
      ],
      "metadata": {
        "id": "33ZGo3LcOP21"
      },
      "id": "33ZGo3LcOP21",
      "execution_count": null,
      "outputs": []
    },
    {
      "cell_type": "code",
      "source": [
        "#pip install datetime"
      ],
      "metadata": {
        "id": "P2grUQXaOZn7"
      },
      "id": "P2grUQXaOZn7",
      "execution_count": null,
      "outputs": []
    },
    {
      "cell_type": "code",
      "source": [
        "#pip install pandas"
      ],
      "metadata": {
        "id": "SEMnnJ4lOdQN"
      },
      "id": "SEMnnJ4lOdQN",
      "execution_count": null,
      "outputs": []
    },
    {
      "cell_type": "code",
      "source": [
        "#pip install pandas_datareader"
      ],
      "metadata": {
        "id": "cKg-DwDVOi1W"
      },
      "id": "cKg-DwDVOi1W",
      "execution_count": null,
      "outputs": []
    },
    {
      "cell_type": "code",
      "execution_count": null,
      "id": "825da624",
      "metadata": {
        "id": "825da624"
      },
      "outputs": [],
      "source": [
        "import numpy as np\n",
        "import pandas as pd\n",
        "from datetime import datetime"
      ]
    },
    {
      "cell_type": "code",
      "execution_count": null,
      "id": "84e576d6",
      "metadata": {
        "id": "84e576d6"
      },
      "outputs": [],
      "source": [
        "import matplotlib.pyplot as plt"
      ]
    },
    {
      "cell_type": "code",
      "execution_count": null,
      "id": "ddbe037b",
      "metadata": {
        "id": "ddbe037b"
      },
      "outputs": [],
      "source": [
        "from pandas_datareader import data as web"
      ]
    },
    {
      "cell_type": "code",
      "execution_count": null,
      "id": "87309a48",
      "metadata": {
        "id": "87309a48"
      },
      "outputs": [],
      "source": [
        "import yfinance as yf\n",
        "plt.style.use('fivethirtyeight')\n",
        "yf.pdr_override() "
      ]
    },
    {
      "cell_type": "code",
      "execution_count": null,
      "id": "3b52855e",
      "metadata": {
        "id": "3b52855e"
      },
      "outputs": [],
      "source": [
        "# Get the stock symbles/tickers in the portfolios\n",
        "assets = ['TSLA', 'BIDU', 'BWA','LUV','BA','FB','CAT','UBER','QCOM','NVDA','AMZN']"
      ]
    },
    {
      "cell_type": "code",
      "execution_count": null,
      "id": "2f130d59",
      "metadata": {
        "id": "2f130d59"
      },
      "outputs": [],
      "source": [
        "#Assign weights to the stocks. Assign equal weights to each stock at first.\n",
        "weights= np.array([1/11,1/11,1/11,1/11,1/11,1/11,1/11,1/11,1/11,1/11,1/11])"
      ]
    },
    {
      "cell_type": "code",
      "execution_count": null,
      "id": "d3cc87d7",
      "metadata": {
        "id": "d3cc87d7"
      },
      "outputs": [],
      "source": [
        "# Get the stock/portfolio starting date\n",
        "stockStartDate= '2013-01-01'"
      ]
    },
    {
      "cell_type": "code",
      "execution_count": null,
      "id": "bc1d8eaa",
      "metadata": {
        "id": "bc1d8eaa"
      },
      "outputs": [],
      "source": [
        "# Get the stocks ending date (today)\n",
        "today = datetime.today().strftime(\"%Y-%m-%d\")"
      ]
    },
    {
      "cell_type": "code",
      "execution_count": null,
      "id": "c4c77fe5",
      "metadata": {
        "id": "c4c77fe5"
      },
      "outputs": [],
      "source": [
        "# Create a datefrime to store the adj close price of the stocks \n",
        "df =pd.DataFrame()"
      ]
    },
    {
      "cell_type": "code",
      "execution_count": null,
      "id": "289d59d8",
      "metadata": {
        "colab": {
          "base_uri": "https://localhost:8080/"
        },
        "id": "289d59d8",
        "outputId": "4a3cbe6b-71f3-45d8-d579-c9d4b06ae73a"
      },
      "outputs": [
        {
          "output_type": "stream",
          "name": "stdout",
          "text": [
            "[*********************100%***********************]  1 of 1 completed\n",
            "[*********************100%***********************]  1 of 1 completed\n",
            "[*********************100%***********************]  1 of 1 completed\n",
            "[*********************100%***********************]  1 of 1 completed\n",
            "[*********************100%***********************]  1 of 1 completed\n",
            "[*********************100%***********************]  1 of 1 completed\n",
            "[*********************100%***********************]  1 of 1 completed\n",
            "[*********************100%***********************]  1 of 1 completed\n",
            "[*********************100%***********************]  1 of 1 completed\n",
            "[*********************100%***********************]  1 of 1 completed\n",
            "[*********************100%***********************]  1 of 1 completed\n"
          ]
        }
      ],
      "source": [
        "# Store the adj close price of the stock into the df\n",
        "for stock in assets:\n",
        "    df[stock] = web.get_data_yahoo(stock, stockStartDate, today)['Adj Close']"
      ]
    },
    {
      "cell_type": "code",
      "execution_count": null,
      "id": "16d61651",
      "metadata": {
        "colab": {
          "base_uri": "https://localhost:8080/",
          "height": 648
        },
        "id": "16d61651",
        "outputId": "3feec4c1-e82e-4588-e8b8-18d40392cd79"
      },
      "outputs": [
        {
          "output_type": "execute_result",
          "data": {
            "text/html": [
              "<div>\n",
              "<style scoped>\n",
              "    .dataframe tbody tr th:only-of-type {\n",
              "        vertical-align: middle;\n",
              "    }\n",
              "\n",
              "    .dataframe tbody tr th {\n",
              "        vertical-align: top;\n",
              "    }\n",
              "\n",
              "    .dataframe thead th {\n",
              "        text-align: right;\n",
              "    }\n",
              "</style>\n",
              "<table border=\"1\" class=\"dataframe\">\n",
              "  <thead>\n",
              "    <tr style=\"text-align: right;\">\n",
              "      <th></th>\n",
              "      <th>TSLA</th>\n",
              "      <th>BIDU</th>\n",
              "      <th>BWA</th>\n",
              "      <th>LUV</th>\n",
              "      <th>BA</th>\n",
              "      <th>FB</th>\n",
              "      <th>CAT</th>\n",
              "      <th>UBER</th>\n",
              "      <th>QCOM</th>\n",
              "      <th>NVDA</th>\n",
              "      <th>AMZN</th>\n",
              "    </tr>\n",
              "    <tr>\n",
              "      <th>Date</th>\n",
              "      <th></th>\n",
              "      <th></th>\n",
              "      <th></th>\n",
              "      <th></th>\n",
              "      <th></th>\n",
              "      <th></th>\n",
              "      <th></th>\n",
              "      <th></th>\n",
              "      <th></th>\n",
              "      <th></th>\n",
              "      <th></th>\n",
              "    </tr>\n",
              "  </thead>\n",
              "  <tbody>\n",
              "    <tr>\n",
              "      <th>2013-01-02</th>\n",
              "      <td>7.072000</td>\n",
              "      <td>104.120003</td>\n",
              "      <td>33.047218</td>\n",
              "      <td>9.779121</td>\n",
              "      <td>64.583862</td>\n",
              "      <td>28.000000</td>\n",
              "      <td>72.530685</td>\n",
              "      <td>NaN</td>\n",
              "      <td>49.740509</td>\n",
              "      <td>2.940028</td>\n",
              "      <td>257.309998</td>\n",
              "    </tr>\n",
              "    <tr>\n",
              "      <th>2013-01-03</th>\n",
              "      <td>6.954000</td>\n",
              "      <td>104.980003</td>\n",
              "      <td>32.994003</td>\n",
              "      <td>10.012629</td>\n",
              "      <td>64.919052</td>\n",
              "      <td>27.770000</td>\n",
              "      <td>73.228821</td>\n",
              "      <td>NaN</td>\n",
              "      <td>49.510052</td>\n",
              "      <td>2.942339</td>\n",
              "      <td>258.480011</td>\n",
              "    </tr>\n",
              "    <tr>\n",
              "      <th>2013-01-04</th>\n",
              "      <td>6.880000</td>\n",
              "      <td>104.650002</td>\n",
              "      <td>32.727879</td>\n",
              "      <td>10.162071</td>\n",
              "      <td>65.103401</td>\n",
              "      <td>28.760000</td>\n",
              "      <td>73.632210</td>\n",
              "      <td>NaN</td>\n",
              "      <td>48.780270</td>\n",
              "      <td>3.039415</td>\n",
              "      <td>259.149994</td>\n",
              "    </tr>\n",
              "    <tr>\n",
              "      <th>2013-01-07</th>\n",
              "      <td>6.868000</td>\n",
              "      <td>102.290001</td>\n",
              "      <td>32.594818</td>\n",
              "      <td>10.190090</td>\n",
              "      <td>63.796154</td>\n",
              "      <td>29.420000</td>\n",
              "      <td>73.857178</td>\n",
              "      <td>NaN</td>\n",
              "      <td>49.172054</td>\n",
              "      <td>2.951585</td>\n",
              "      <td>268.459991</td>\n",
              "    </tr>\n",
              "    <tr>\n",
              "      <th>2013-01-08</th>\n",
              "      <td>6.736000</td>\n",
              "      <td>101.089996</td>\n",
              "      <td>32.151283</td>\n",
              "      <td>10.302173</td>\n",
              "      <td>62.120190</td>\n",
              "      <td>29.059999</td>\n",
              "      <td>72.918541</td>\n",
              "      <td>NaN</td>\n",
              "      <td>49.095230</td>\n",
              "      <td>2.886867</td>\n",
              "      <td>266.380005</td>\n",
              "    </tr>\n",
              "    <tr>\n",
              "      <th>...</th>\n",
              "      <td>...</td>\n",
              "      <td>...</td>\n",
              "      <td>...</td>\n",
              "      <td>...</td>\n",
              "      <td>...</td>\n",
              "      <td>...</td>\n",
              "      <td>...</td>\n",
              "      <td>...</td>\n",
              "      <td>...</td>\n",
              "      <td>...</td>\n",
              "      <td>...</td>\n",
              "    </tr>\n",
              "    <tr>\n",
              "      <th>2021-12-02</th>\n",
              "      <td>1084.599976</td>\n",
              "      <td>148.960007</td>\n",
              "      <td>44.270000</td>\n",
              "      <td>45.340000</td>\n",
              "      <td>202.380005</td>\n",
              "      <td>310.390015</td>\n",
              "      <td>196.789993</td>\n",
              "      <td>38.119999</td>\n",
              "      <td>177.029999</td>\n",
              "      <td>321.260010</td>\n",
              "      <td>3437.360107</td>\n",
              "    </tr>\n",
              "    <tr>\n",
              "      <th>2021-12-03</th>\n",
              "      <td>1014.969971</td>\n",
              "      <td>137.389999</td>\n",
              "      <td>43.880001</td>\n",
              "      <td>44.279999</td>\n",
              "      <td>198.490005</td>\n",
              "      <td>306.839996</td>\n",
              "      <td>197.800003</td>\n",
              "      <td>35.849998</td>\n",
              "      <td>176.509995</td>\n",
              "      <td>306.929993</td>\n",
              "      <td>3389.790039</td>\n",
              "    </tr>\n",
              "    <tr>\n",
              "      <th>2021-12-06</th>\n",
              "      <td>1009.010010</td>\n",
              "      <td>147.649994</td>\n",
              "      <td>44.790001</td>\n",
              "      <td>45.560001</td>\n",
              "      <td>205.880005</td>\n",
              "      <td>317.869995</td>\n",
              "      <td>201.279999</td>\n",
              "      <td>38.490002</td>\n",
              "      <td>175.449997</td>\n",
              "      <td>300.369995</td>\n",
              "      <td>3427.370117</td>\n",
              "    </tr>\n",
              "    <tr>\n",
              "      <th>2021-12-07</th>\n",
              "      <td>1051.750000</td>\n",
              "      <td>149.889999</td>\n",
              "      <td>45.549999</td>\n",
              "      <td>45.209999</td>\n",
              "      <td>208.830002</td>\n",
              "      <td>322.809998</td>\n",
              "      <td>204.490005</td>\n",
              "      <td>38.080002</td>\n",
              "      <td>183.720001</td>\n",
              "      <td>324.269989</td>\n",
              "      <td>3523.290039</td>\n",
              "    </tr>\n",
              "    <tr>\n",
              "      <th>2021-12-08</th>\n",
              "      <td>1068.959961</td>\n",
              "      <td>148.929993</td>\n",
              "      <td>46.200001</td>\n",
              "      <td>45.270000</td>\n",
              "      <td>211.029999</td>\n",
              "      <td>330.559998</td>\n",
              "      <td>204.190002</td>\n",
              "      <td>38.810001</td>\n",
              "      <td>182.630005</td>\n",
              "      <td>318.260010</td>\n",
              "      <td>3523.159912</td>\n",
              "    </tr>\n",
              "  </tbody>\n",
              "</table>\n",
              "<p>2251 rows × 11 columns</p>\n",
              "</div>"
            ],
            "text/plain": [
              "                   TSLA        BIDU  ...        NVDA         AMZN\n",
              "Date                                 ...                         \n",
              "2013-01-02     7.072000  104.120003  ...    2.940028   257.309998\n",
              "2013-01-03     6.954000  104.980003  ...    2.942339   258.480011\n",
              "2013-01-04     6.880000  104.650002  ...    3.039415   259.149994\n",
              "2013-01-07     6.868000  102.290001  ...    2.951585   268.459991\n",
              "2013-01-08     6.736000  101.089996  ...    2.886867   266.380005\n",
              "...                 ...         ...  ...         ...          ...\n",
              "2021-12-02  1084.599976  148.960007  ...  321.260010  3437.360107\n",
              "2021-12-03  1014.969971  137.389999  ...  306.929993  3389.790039\n",
              "2021-12-06  1009.010010  147.649994  ...  300.369995  3427.370117\n",
              "2021-12-07  1051.750000  149.889999  ...  324.269989  3523.290039\n",
              "2021-12-08  1068.959961  148.929993  ...  318.260010  3523.159912\n",
              "\n",
              "[2251 rows x 11 columns]"
            ]
          },
          "metadata": {},
          "execution_count": 26
        }
      ],
      "source": [
        "# Show the dataframe\n",
        "df"
      ]
    },
    {
      "cell_type": "code",
      "execution_count": null,
      "id": "1527bc83",
      "metadata": {
        "colab": {
          "base_uri": "https://localhost:8080/",
          "height": 342
        },
        "id": "1527bc83",
        "outputId": "75904f4b-e926-48a2-fc27-d123aca6a2ea"
      },
      "outputs": [
        {
          "output_type": "execute_result",
          "data": {
            "text/plain": [
              "<matplotlib.legend.Legend at 0x7f9d96916090>"
            ]
          },
          "metadata": {},
          "execution_count": 27
        },
        {
          "output_type": "display_data",
          "data": {
            "image/png": "[encoded data removed]",
            "text/plain": [
              "<Figure size 432x288 with 1 Axes>"
            ]
          },
          "metadata": {}
        }
      ],
      "source": [
        "# Visually show the stock / portfolio\n",
        "title = 'Portfolio Adj. Close Price History'\n",
        "\n",
        "# Get the stocks\n",
        "my_stocks = df\n",
        "\n",
        "# Create and plot the graph\n",
        "for c in my_stocks.columns.values:\n",
        "    plt.plot(my_stocks[c], label = c)\n",
        "    \n",
        "plt.title(title)\n",
        "plt.xlabel('Date', fontsize = 18)\n",
        "plt.ylabel('Adj. Price USD($)', fontsize=18)\n",
        "plt.legend(my_stocks.columns.values, loc='upper left')"
      ]
    },
    {
      "cell_type": "code",
      "execution_count": null,
      "id": "2fd56e1b",
      "metadata": {
        "colab": {
          "base_uri": "https://localhost:8080/",
          "height": 648
        },
        "id": "2fd56e1b",
        "outputId": "3f06976e-4159-45ae-dee5-29d74abe95d5"
      },
      "outputs": [
        {
          "output_type": "execute_result",
          "data": {
            "text/html": [
              "<div>\n",
              "<style scoped>\n",
              "    .dataframe tbody tr th:only-of-type {\n",
              "        vertical-align: middle;\n",
              "    }\n",
              "\n",
              "    .dataframe tbody tr th {\n",
              "        vertical-align: top;\n",
              "    }\n",
              "\n",
              "    .dataframe thead th {\n",
              "        text-align: right;\n",
              "    }\n",
              "</style>\n",
              "<table border=\"1\" class=\"dataframe\">\n",
              "  <thead>\n",
              "    <tr style=\"text-align: right;\">\n",
              "      <th></th>\n",
              "      <th>TSLA</th>\n",
              "      <th>BIDU</th>\n",
              "      <th>BWA</th>\n",
              "      <th>LUV</th>\n",
              "      <th>BA</th>\n",
              "      <th>FB</th>\n",
              "      <th>CAT</th>\n",
              "      <th>UBER</th>\n",
              "      <th>QCOM</th>\n",
              "      <th>NVDA</th>\n",
              "      <th>AMZN</th>\n",
              "    </tr>\n",
              "    <tr>\n",
              "      <th>Date</th>\n",
              "      <th></th>\n",
              "      <th></th>\n",
              "      <th></th>\n",
              "      <th></th>\n",
              "      <th></th>\n",
              "      <th></th>\n",
              "      <th></th>\n",
              "      <th></th>\n",
              "      <th></th>\n",
              "      <th></th>\n",
              "      <th></th>\n",
              "    </tr>\n",
              "  </thead>\n",
              "  <tbody>\n",
              "    <tr>\n",
              "      <th>2013-01-02</th>\n",
              "      <td>NaN</td>\n",
              "      <td>NaN</td>\n",
              "      <td>NaN</td>\n",
              "      <td>NaN</td>\n",
              "      <td>NaN</td>\n",
              "      <td>NaN</td>\n",
              "      <td>NaN</td>\n",
              "      <td>NaN</td>\n",
              "      <td>NaN</td>\n",
              "      <td>NaN</td>\n",
              "      <td>NaN</td>\n",
              "    </tr>\n",
              "    <tr>\n",
              "      <th>2013-01-03</th>\n",
              "      <td>-0.016686</td>\n",
              "      <td>0.008260</td>\n",
              "      <td>-0.001610</td>\n",
              "      <td>0.023878</td>\n",
              "      <td>0.005190</td>\n",
              "      <td>-0.008214</td>\n",
              "      <td>0.009625</td>\n",
              "      <td>NaN</td>\n",
              "      <td>-0.004633</td>\n",
              "      <td>0.000786</td>\n",
              "      <td>0.004547</td>\n",
              "    </tr>\n",
              "    <tr>\n",
              "      <th>2013-01-04</th>\n",
              "      <td>-0.010641</td>\n",
              "      <td>-0.003143</td>\n",
              "      <td>-0.008066</td>\n",
              "      <td>0.014925</td>\n",
              "      <td>0.002840</td>\n",
              "      <td>0.035650</td>\n",
              "      <td>0.005509</td>\n",
              "      <td>NaN</td>\n",
              "      <td>-0.014740</td>\n",
              "      <td>0.032993</td>\n",
              "      <td>0.002592</td>\n",
              "    </tr>\n",
              "    <tr>\n",
              "      <th>2013-01-07</th>\n",
              "      <td>-0.001744</td>\n",
              "      <td>-0.022551</td>\n",
              "      <td>-0.004066</td>\n",
              "      <td>0.002757</td>\n",
              "      <td>-0.020080</td>\n",
              "      <td>0.022949</td>\n",
              "      <td>0.003055</td>\n",
              "      <td>NaN</td>\n",
              "      <td>0.008032</td>\n",
              "      <td>-0.028897</td>\n",
              "      <td>0.035925</td>\n",
              "    </tr>\n",
              "    <tr>\n",
              "      <th>2013-01-08</th>\n",
              "      <td>-0.019220</td>\n",
              "      <td>-0.011731</td>\n",
              "      <td>-0.013608</td>\n",
              "      <td>0.010999</td>\n",
              "      <td>-0.026271</td>\n",
              "      <td>-0.012237</td>\n",
              "      <td>-0.012709</td>\n",
              "      <td>NaN</td>\n",
              "      <td>-0.001562</td>\n",
              "      <td>-0.021927</td>\n",
              "      <td>-0.007748</td>\n",
              "    </tr>\n",
              "    <tr>\n",
              "      <th>...</th>\n",
              "      <td>...</td>\n",
              "      <td>...</td>\n",
              "      <td>...</td>\n",
              "      <td>...</td>\n",
              "      <td>...</td>\n",
              "      <td>...</td>\n",
              "      <td>...</td>\n",
              "      <td>...</td>\n",
              "      <td>...</td>\n",
              "      <td>...</td>\n",
              "      <td>...</td>\n",
              "    </tr>\n",
              "    <tr>\n",
              "      <th>2021-12-02</th>\n",
              "      <td>-0.009498</td>\n",
              "      <td>0.000874</td>\n",
              "      <td>0.033380</td>\n",
              "      <td>0.065570</td>\n",
              "      <td>0.075403</td>\n",
              "      <td>-0.000676</td>\n",
              "      <td>0.027785</td>\n",
              "      <td>0.058301</td>\n",
              "      <td>0.007971</td>\n",
              "      <td>0.021982</td>\n",
              "      <td>-0.001847</td>\n",
              "    </tr>\n",
              "    <tr>\n",
              "      <th>2021-12-03</th>\n",
              "      <td>-0.064199</td>\n",
              "      <td>-0.077672</td>\n",
              "      <td>-0.008810</td>\n",
              "      <td>-0.023379</td>\n",
              "      <td>-0.019221</td>\n",
              "      <td>-0.011437</td>\n",
              "      <td>0.005132</td>\n",
              "      <td>-0.059549</td>\n",
              "      <td>-0.002937</td>\n",
              "      <td>-0.044606</td>\n",
              "      <td>-0.013839</td>\n",
              "    </tr>\n",
              "    <tr>\n",
              "      <th>2021-12-06</th>\n",
              "      <td>-0.005872</td>\n",
              "      <td>0.074678</td>\n",
              "      <td>0.020738</td>\n",
              "      <td>0.028907</td>\n",
              "      <td>0.037231</td>\n",
              "      <td>0.035947</td>\n",
              "      <td>0.017594</td>\n",
              "      <td>0.073640</td>\n",
              "      <td>-0.006005</td>\n",
              "      <td>-0.021373</td>\n",
              "      <td>0.011086</td>\n",
              "    </tr>\n",
              "    <tr>\n",
              "      <th>2021-12-07</th>\n",
              "      <td>0.042358</td>\n",
              "      <td>0.015171</td>\n",
              "      <td>0.016968</td>\n",
              "      <td>-0.007682</td>\n",
              "      <td>0.014329</td>\n",
              "      <td>0.015541</td>\n",
              "      <td>0.015948</td>\n",
              "      <td>-0.010652</td>\n",
              "      <td>0.047136</td>\n",
              "      <td>0.079569</td>\n",
              "      <td>0.027986</td>\n",
              "    </tr>\n",
              "    <tr>\n",
              "      <th>2021-12-08</th>\n",
              "      <td>0.016363</td>\n",
              "      <td>-0.006405</td>\n",
              "      <td>0.014270</td>\n",
              "      <td>0.001327</td>\n",
              "      <td>0.010535</td>\n",
              "      <td>0.024008</td>\n",
              "      <td>-0.001467</td>\n",
              "      <td>0.019170</td>\n",
              "      <td>-0.005933</td>\n",
              "      <td>-0.018534</td>\n",
              "      <td>-0.000037</td>\n",
              "    </tr>\n",
              "  </tbody>\n",
              "</table>\n",
              "<p>2251 rows × 11 columns</p>\n",
              "</div>"
            ],
            "text/plain": [
              "                TSLA      BIDU       BWA  ...      QCOM      NVDA      AMZN\n",
              "Date                                      ...                              \n",
              "2013-01-02       NaN       NaN       NaN  ...       NaN       NaN       NaN\n",
              "2013-01-03 -0.016686  0.008260 -0.001610  ... -0.004633  0.000786  0.004547\n",
              "2013-01-04 -0.010641 -0.003143 -0.008066  ... -0.014740  0.032993  0.002592\n",
              "2013-01-07 -0.001744 -0.022551 -0.004066  ...  0.008032 -0.028897  0.035925\n",
              "2013-01-08 -0.019220 -0.011731 -0.013608  ... -0.001562 -0.021927 -0.007748\n",
              "...              ...       ...       ...  ...       ...       ...       ...\n",
              "2021-12-02 -0.009498  0.000874  0.033380  ...  0.007971  0.021982 -0.001847\n",
              "2021-12-03 -0.064199 -0.077672 -0.008810  ... -0.002937 -0.044606 -0.013839\n",
              "2021-12-06 -0.005872  0.074678  0.020738  ... -0.006005 -0.021373  0.011086\n",
              "2021-12-07  0.042358  0.015171  0.016968  ...  0.047136  0.079569  0.027986\n",
              "2021-12-08  0.016363 -0.006405  0.014270  ... -0.005933 -0.018534 -0.000037\n",
              "\n",
              "[2251 rows x 11 columns]"
            ]
          },
          "metadata": {},
          "execution_count": 28
        }
      ],
      "source": [
        "# Show the daily simple return\n",
        "returns = df.pct_change()\n",
        "returns"
      ]
    },
    {
      "cell_type": "code",
      "execution_count": null,
      "id": "e1bcfb42",
      "metadata": {
        "colab": {
          "base_uri": "https://localhost:8080/",
          "height": 414
        },
        "id": "e1bcfb42",
        "outputId": "d6139a4c-9038-4756-d172-815cfb00b904"
      },
      "outputs": [
        {
          "output_type": "execute_result",
          "data": {
            "text/html": [
              "<div>\n",
              "<style scoped>\n",
              "    .dataframe tbody tr th:only-of-type {\n",
              "        vertical-align: middle;\n",
              "    }\n",
              "\n",
              "    .dataframe tbody tr th {\n",
              "        vertical-align: top;\n",
              "    }\n",
              "\n",
              "    .dataframe thead th {\n",
              "        text-align: right;\n",
              "    }\n",
              "</style>\n",
              "<table border=\"1\" class=\"dataframe\">\n",
              "  <thead>\n",
              "    <tr style=\"text-align: right;\">\n",
              "      <th></th>\n",
              "      <th>TSLA</th>\n",
              "      <th>BIDU</th>\n",
              "      <th>BWA</th>\n",
              "      <th>LUV</th>\n",
              "      <th>BA</th>\n",
              "      <th>FB</th>\n",
              "      <th>CAT</th>\n",
              "      <th>UBER</th>\n",
              "      <th>QCOM</th>\n",
              "      <th>NVDA</th>\n",
              "      <th>AMZN</th>\n",
              "    </tr>\n",
              "  </thead>\n",
              "  <tbody>\n",
              "    <tr>\n",
              "      <th>TSLA</th>\n",
              "      <td>0.312880</td>\n",
              "      <td>0.065854</td>\n",
              "      <td>0.047523</td>\n",
              "      <td>0.033625</td>\n",
              "      <td>0.052828</td>\n",
              "      <td>0.057087</td>\n",
              "      <td>0.030487</td>\n",
              "      <td>0.157898</td>\n",
              "      <td>0.048047</td>\n",
              "      <td>0.075240</td>\n",
              "      <td>0.054972</td>\n",
              "    </tr>\n",
              "    <tr>\n",
              "      <th>BIDU</th>\n",
              "      <td>0.065854</td>\n",
              "      <td>0.155042</td>\n",
              "      <td>0.041880</td>\n",
              "      <td>0.033476</td>\n",
              "      <td>0.043342</td>\n",
              "      <td>0.048360</td>\n",
              "      <td>0.035411</td>\n",
              "      <td>0.105505</td>\n",
              "      <td>0.040229</td>\n",
              "      <td>0.054897</td>\n",
              "      <td>0.040174</td>\n",
              "    </tr>\n",
              "    <tr>\n",
              "      <th>BWA</th>\n",
              "      <td>0.047523</td>\n",
              "      <td>0.041880</td>\n",
              "      <td>0.104389</td>\n",
              "      <td>0.046268</td>\n",
              "      <td>0.059405</td>\n",
              "      <td>0.031936</td>\n",
              "      <td>0.049054</td>\n",
              "      <td>0.099534</td>\n",
              "      <td>0.038242</td>\n",
              "      <td>0.044746</td>\n",
              "      <td>0.026756</td>\n",
              "    </tr>\n",
              "    <tr>\n",
              "      <th>LUV</th>\n",
              "      <td>0.033625</td>\n",
              "      <td>0.033476</td>\n",
              "      <td>0.046268</td>\n",
              "      <td>0.112189</td>\n",
              "      <td>0.070581</td>\n",
              "      <td>0.027495</td>\n",
              "      <td>0.038606</td>\n",
              "      <td>0.082028</td>\n",
              "      <td>0.030818</td>\n",
              "      <td>0.034394</td>\n",
              "      <td>0.021839</td>\n",
              "    </tr>\n",
              "    <tr>\n",
              "      <th>BA</th>\n",
              "      <td>0.052828</td>\n",
              "      <td>0.043342</td>\n",
              "      <td>0.059405</td>\n",
              "      <td>0.070581</td>\n",
              "      <td>0.144028</td>\n",
              "      <td>0.035601</td>\n",
              "      <td>0.052115</td>\n",
              "      <td>0.148332</td>\n",
              "      <td>0.041359</td>\n",
              "      <td>0.046876</td>\n",
              "      <td>0.028575</td>\n",
              "    </tr>\n",
              "    <tr>\n",
              "      <th>FB</th>\n",
              "      <td>0.057087</td>\n",
              "      <td>0.048360</td>\n",
              "      <td>0.031936</td>\n",
              "      <td>0.027495</td>\n",
              "      <td>0.035601</td>\n",
              "      <td>0.115541</td>\n",
              "      <td>0.026130</td>\n",
              "      <td>0.081201</td>\n",
              "      <td>0.034510</td>\n",
              "      <td>0.057904</td>\n",
              "      <td>0.053197</td>\n",
              "    </tr>\n",
              "    <tr>\n",
              "      <th>CAT</th>\n",
              "      <td>0.030487</td>\n",
              "      <td>0.035411</td>\n",
              "      <td>0.049054</td>\n",
              "      <td>0.038606</td>\n",
              "      <td>0.052115</td>\n",
              "      <td>0.026130</td>\n",
              "      <td>0.077390</td>\n",
              "      <td>0.064516</td>\n",
              "      <td>0.035315</td>\n",
              "      <td>0.040429</td>\n",
              "      <td>0.024719</td>\n",
              "    </tr>\n",
              "    <tr>\n",
              "      <th>UBER</th>\n",
              "      <td>0.157898</td>\n",
              "      <td>0.105505</td>\n",
              "      <td>0.099534</td>\n",
              "      <td>0.082028</td>\n",
              "      <td>0.148332</td>\n",
              "      <td>0.081201</td>\n",
              "      <td>0.064516</td>\n",
              "      <td>0.349602</td>\n",
              "      <td>0.092096</td>\n",
              "      <td>0.119672</td>\n",
              "      <td>0.054641</td>\n",
              "    </tr>\n",
              "    <tr>\n",
              "      <th>QCOM</th>\n",
              "      <td>0.048047</td>\n",
              "      <td>0.040229</td>\n",
              "      <td>0.038242</td>\n",
              "      <td>0.030818</td>\n",
              "      <td>0.041359</td>\n",
              "      <td>0.034510</td>\n",
              "      <td>0.035315</td>\n",
              "      <td>0.092096</td>\n",
              "      <td>0.107162</td>\n",
              "      <td>0.064588</td>\n",
              "      <td>0.033641</td>\n",
              "    </tr>\n",
              "    <tr>\n",
              "      <th>NVDA</th>\n",
              "      <td>0.075240</td>\n",
              "      <td>0.054897</td>\n",
              "      <td>0.044746</td>\n",
              "      <td>0.034394</td>\n",
              "      <td>0.046876</td>\n",
              "      <td>0.057904</td>\n",
              "      <td>0.040429</td>\n",
              "      <td>0.119672</td>\n",
              "      <td>0.064588</td>\n",
              "      <td>0.171821</td>\n",
              "      <td>0.055470</td>\n",
              "    </tr>\n",
              "    <tr>\n",
              "      <th>AMZN</th>\n",
              "      <td>0.054972</td>\n",
              "      <td>0.040174</td>\n",
              "      <td>0.026756</td>\n",
              "      <td>0.021839</td>\n",
              "      <td>0.028575</td>\n",
              "      <td>0.053197</td>\n",
              "      <td>0.024719</td>\n",
              "      <td>0.054641</td>\n",
              "      <td>0.033641</td>\n",
              "      <td>0.055470</td>\n",
              "      <td>0.090440</td>\n",
              "    </tr>\n",
              "  </tbody>\n",
              "</table>\n",
              "</div>"
            ],
            "text/plain": [
              "          TSLA      BIDU       BWA  ...      QCOM      NVDA      AMZN\n",
              "TSLA  0.312880  0.065854  0.047523  ...  0.048047  0.075240  0.054972\n",
              "BIDU  0.065854  0.155042  0.041880  ...  0.040229  0.054897  0.040174\n",
              "BWA   0.047523  0.041880  0.104389  ...  0.038242  0.044746  0.026756\n",
              "LUV   0.033625  0.033476  0.046268  ...  0.030818  0.034394  0.021839\n",
              "BA    0.052828  0.043342  0.059405  ...  0.041359  0.046876  0.028575\n",
              "FB    0.057087  0.048360  0.031936  ...  0.034510  0.057904  0.053197\n",
              "CAT   0.030487  0.035411  0.049054  ...  0.035315  0.040429  0.024719\n",
              "UBER  0.157898  0.105505  0.099534  ...  0.092096  0.119672  0.054641\n",
              "QCOM  0.048047  0.040229  0.038242  ...  0.107162  0.064588  0.033641\n",
              "NVDA  0.075240  0.054897  0.044746  ...  0.064588  0.171821  0.055470\n",
              "AMZN  0.054972  0.040174  0.026756  ...  0.033641  0.055470  0.090440\n",
              "\n",
              "[11 rows x 11 columns]"
            ]
          },
          "metadata": {},
          "execution_count": 29
        }
      ],
      "source": [
        "# Create and show the annualized covariance matrix\n",
        "cov_matrix_annual = returns.cov() * 252 #### 252 is the number of trading days for this year\n",
        "cov_matrix_annual"
      ]
    },
    {
      "cell_type": "code",
      "execution_count": null,
      "id": "875aafaf",
      "metadata": {
        "colab": {
          "base_uri": "https://localhost:8080/"
        },
        "id": "875aafaf",
        "outputId": "b421afc0-501f-447c-86ae-f18fa7fe06b4"
      },
      "outputs": [
        {
          "output_type": "execute_result",
          "data": {
            "text/plain": [
              "0.06330024208977023"
            ]
          },
          "metadata": {},
          "execution_count": 30
        }
      ],
      "source": [
        "# Calculate the portfolio variance\n",
        "port_variance = np.dot(weights.T, np.dot(cov_matrix_annual, weights))\n",
        "port_variance"
      ]
    },
    {
      "cell_type": "code",
      "execution_count": null,
      "id": "386702e9",
      "metadata": {
        "colab": {
          "base_uri": "https://localhost:8080/"
        },
        "id": "386702e9",
        "outputId": "88d16678-9799-4cf0-d0e1-adb33e199a1a"
      },
      "outputs": [
        {
          "output_type": "execute_result",
          "data": {
            "text/plain": [
              "0.2515953936179481"
            ]
          },
          "metadata": {},
          "execution_count": 31
        }
      ],
      "source": [
        "# Calculate the portfolio volatility aka standard deviation\n",
        "port_volatility = np.sqrt(port_variance)\n",
        "port_volatility"
      ]
    },
    {
      "cell_type": "code",
      "execution_count": null,
      "id": "a6377baf",
      "metadata": {
        "colab": {
          "base_uri": "https://localhost:8080/"
        },
        "id": "a6377baf",
        "outputId": "3b2fa8e9-6e1d-44fa-def4-4bd9adbedca5"
      },
      "outputs": [
        {
          "output_type": "execute_result",
          "data": {
            "text/plain": [
              "0.2851992188441574"
            ]
          },
          "metadata": {},
          "execution_count": 32
        }
      ],
      "source": [
        "# Calculate the annual portfolio return\n",
        "portfolioSimpleAnnualReturn = np.sum(returns.mean()*weights) * 252\n",
        "portfolioSimpleAnnualReturn"
      ]
    },
    {
      "cell_type": "code",
      "execution_count": null,
      "id": "b83fd614",
      "metadata": {
        "id": "b83fd614"
      },
      "outputs": [],
      "source": [
        "# Show the expected annual return, volatility (risk), and variance\n",
        "\n",
        "percent_var = str(round(port_variance,2) * 100) + '%'\n",
        "percent_vol = str(round(port_volatility, 2) * 100) + '%'\n",
        "percent_ret = str(round(portfolioSimpleAnnualReturn, 2) * 100) + '%'"
      ]
    },
    {
      "cell_type": "code",
      "execution_count": null,
      "id": "87ff3ef5",
      "metadata": {
        "colab": {
          "base_uri": "https://localhost:8080/"
        },
        "id": "87ff3ef5",
        "outputId": "9cef236f-bffb-482c-83bd-1659f6647b32"
      },
      "outputs": [
        {
          "output_type": "stream",
          "name": "stdout",
          "text": [
            "Expected annual return: 28.999999999999996%\n",
            "Annual volatility / risk: 25.0%\n",
            "Annual variance: 6.0%\n"
          ]
        }
      ],
      "source": [
        "print('Expected annual return: ' + percent_ret)\n",
        "print('Annual volatility / risk: ' + percent_vol)\n",
        "print('Annual variance: ' + percent_var)"
      ]
    },
    {
      "cell_type": "code",
      "execution_count": null,
      "id": "5f39076b",
      "metadata": {
        "id": "5f39076b"
      },
      "outputs": [],
      "source": [
        "#pip install PyportfolioOpt"
      ]
    },
    {
      "cell_type": "code",
      "execution_count": null,
      "id": "32c6a20c",
      "metadata": {
        "id": "32c6a20c"
      },
      "outputs": [],
      "source": [
        "from pypfopt.efficient_frontier import EfficientFrontier\n",
        "from pypfopt import risk_models\n",
        "from pypfopt import expected_returns"
      ]
    },
    {
      "cell_type": "code",
      "execution_count": null,
      "id": "9fe0f2fc",
      "metadata": {
        "colab": {
          "base_uri": "https://localhost:8080/"
        },
        "id": "9fe0f2fc",
        "outputId": "ed5a7255-9917-4750-b136-552e0e6c8858"
      },
      "outputs": [
        {
          "output_type": "stream",
          "name": "stdout",
          "text": [
            "OrderedDict([('TSLA', 0.2814), ('BIDU', 0.0), ('BWA', 0.0), ('LUV', 0.0), ('BA', 0.0), ('FB', 0.0), ('CAT', 0.0), ('UBER', 0.0), ('QCOM', 0.0), ('NVDA', 0.56541), ('AMZN', 0.15318)])\n",
            "Expected annual return: 65.4%\n",
            "Annual volatility: 34.7%\n",
            "Sharpe Ratio: 1.83\n"
          ]
        },
        {
          "output_type": "execute_result",
          "data": {
            "text/plain": [
              "(0.654487705131992, 0.3465813687888882, 1.8307034430303581)"
            ]
          },
          "metadata": {},
          "execution_count": 37
        }
      ],
      "source": [
        "# Portfolio Optimization\n",
        "\n",
        "# Calculate the expected returns and the annualized sample covariance matrix of asset returns\n",
        "mu = expected_returns.mean_historical_return(df)\n",
        "S = risk_models.sample_cov(df)\n",
        "\n",
        "# optimize for max sharpe ratio\n",
        "ef = EfficientFrontier(mu, S)\n",
        "weights = ef.max_sharpe()\n",
        "cleaned_weights = ef.clean_weights()\n",
        "print(cleaned_weights)\n",
        "ef.portfolio_performance(verbose = True)\n"
      ]
    },
    {
      "cell_type": "code",
      "execution_count": null,
      "id": "ca4bc8be",
      "metadata": {
        "id": "ca4bc8be"
      },
      "outputs": [],
      "source": [
        "# Get the discrete allocation of each share per stock\n",
        "from pypfopt.discrete_allocation import DiscreteAllocation, get_latest_prices\n",
        "\n"
      ]
    },
    {
      "cell_type": "code",
      "execution_count": null,
      "id": "ae8ff78c",
      "metadata": {
        "colab": {
          "base_uri": "https://localhost:8080/"
        },
        "id": "ae8ff78c",
        "outputId": "c635c2cd-29d5-4c8d-e370-a9d7fd2553ac"
      },
      "outputs": [
        {
          "output_type": "stream",
          "name": "stdout",
          "text": [
            "Discrete allocation:  {'TSLA': 27, 'NVDA': 178, 'AMZN': 4}\n",
            "Funds remaining: $395.16\n"
          ]
        }
      ],
      "source": [
        "latest_prices = get_latest_prices(df)\n",
        "weights = cleaned_weights\n",
        "da = DiscreteAllocation(weights, latest_prices, total_portfolio_value = 100000)\n",
        "\n",
        "allocation, leftover = da.lp_portfolio()\n",
        "print('Discrete allocation: ' , allocation)\n",
        "print('Funds remaining: ${:.2f}'.format(leftover))"
      ]
    }
  ],
  "metadata": {
    "kernelspec": {
      "display_name": "Python 3",
      "language": "python",
      "name": "python3"
    },
    "language_info": {
      "codemirror_mode": {
        "name": "ipython",
        "version": 3
      },
      "file_extension": ".py",
      "mimetype": "text/x-python",
      "name": "python",
      "nbconvert_exporter": "python",
      "pygments_lexer": "ipython3",
      "version": "3.8.8"
    },
    "colab": {
      "name": "Optimize portfolio Using efficient Frontier.ipynb",
      "provenance": [],
      "collapsed_sections": [],
      "include_colab_link": true
    }
  },
  "nbformat": 4,
  "nbformat_minor": 5
}